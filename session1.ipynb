{
 "cells": [
  {
   "cell_type": "markdown",
   "metadata": {},
   "source": [
    "# 05/21 파이썬 실습\n",
    "파이썬에 첫 발을 내딛은 여러분 환영합니다!  "
   ]
  },
  {
   "cell_type": "markdown",
   "metadata": {},
   "source": [
    "## 파이썬 첫 발 내딛기\n",
    "파이썬에게 인사를 받아 봅시다.\n",
    "```Python\n",
    "print(\"Hello, world!\")\n",
    "```"
   ]
  },
  {
   "cell_type": "code",
   "execution_count": 1,
   "metadata": {},
   "outputs": [
    {
     "name": "stdout",
     "output_type": "stream",
     "text": [
      "Hello, world!\n"
     ]
    }
   ],
   "source": []
  },
  {
   "cell_type": "markdown",
   "metadata": {},
   "source": [
    "### 문자열\n",
    "우리가 쓰는 글은 `글자들의 나열`이라고 생각할 수 있습니다. 프로그래밍에서 사용되는 글자들의 순서를 `문자열` 자료라고 부릅니다.  \n",
    "파이썬에서 문자열은\n",
    "```Python\n",
    "\"이렇게\" # 큰 따옴표로 감싸거나\n",
    "'저렇게' # 작은 따옴표로 감싸서 \n",
    "```\n",
    "만들 수 있습니다\n",
    "\n",
    "따라 써 봅시다!\n",
    "```Python\n",
    "print(\"만나서 반갑습니다!\")\n",
    "print(\"제 이름은 박찬우 입니다.\")\n",
    "```"
   ]
  },
  {
   "cell_type": "code",
   "execution_count": null,
   "metadata": {},
   "outputs": [],
   "source": []
  },
  {
   "cell_type": "markdown",
   "metadata": {},
   "source": [
    "### 변수\n",
    "우리 반에는 11명의 친구들이 있습니다. 친구들에게 모두 인사하고 싶습니다.\n",
    "```Python\n",
    "print(\"안녕? 좋은 아침이야!\")\n",
    "print(\"안녕? 좋은 아침이야!\")\n",
    "print(\"안녕? 좋은 아침이야!\")\n",
    "... # 총 11번 해야 해요!\n",
    "```\n",
    "이렇게 똑같은 문자열을 쓰고 있는데, 이건 매우 귀찮고, 실수하기 쉬운 일이에요. 그래서 우리는 이 문자열을 저장해 두고 재사용 합니다.\n",
    "```Python\n",
    "hello = \"안녕? 좋은 아침이야!\"\n",
    "\n",
    "print(hello)\n",
    "print(hello)\n",
    "print(hello)\n",
    "... # 11번 쓰세요!\n",
    "```"
   ]
  },
  {
   "cell_type": "code",
   "execution_count": null,
   "metadata": {},
   "outputs": [],
   "source": []
  },
  {
   "cell_type": "markdown",
   "metadata": {},
   "source": [
    "### 문자열 연산\n",
    "```\n",
    "내가 그의 이름을 불러주었을 때,\n",
    "그는 나에게로 와서\n",
    "꽃이 되었다.\n",
    "```\n",
    "\n",
    "친구를 꽃으로 만들어 봅시다. 친구의 이름을 불러주고 싶어요\n",
    "```Python\n",
    "print(\"동우야 안녕? 좋은 아침이야!\")\n",
    "print(\"채연아 안녕? 좋은 아침이야!\")\n",
    "print(\"효정아 안녕? 좋은 아침이야!\")\n",
    "print(\"다솜아 안녕? 좋은 아침이야!\")\n",
    "```\n",
    "\n",
    "그런데 똑같은 부분은 계속 쓰기 귀찮을 것 같아요. 어떻게 할 수 있을까요?\n",
    "```Python\n",
    "hello = \"안녕? 좋은 아침이야!\"\n",
    "print(\"동우야 \" + hello)\n",
    "print(\"채연아 \" + hello)\n",
    "print(\"효정아 \" + hello)\n",
    "print(\"다솜아 \" + hello)\n",
    "```"
   ]
  },
  {
   "cell_type": "code",
   "execution_count": null,
   "metadata": {},
   "outputs": [],
   "source": []
  },
  {
   "cell_type": "markdown",
   "metadata": {},
   "source": []
  },
  {
   "cell_type": "markdown",
   "metadata": {},
   "source": [
    "## 죄수의 딜레마 문제 풀기\n",
    "두 명의 사건 용의자가 체포되어 서로 다른 방에서 조사받고 있다. 이들은 다음 표를 보고 자백할 지 선택한다.\n",
    "\n",
    "![죄수의 딜레마 설명이미지](https://raw.githubusercontent.com/tenspoons-snucba/shms-22Spr/main/docs/prisoner.jpeg)  \n",
    "\n",
    "+ 둘 중 하나가 배신하여 죄를 자백하면 자백한 사람은 즉시 풀어주고 나머지 한 명이 10년 감옥생활을 한다.\n",
    "+ 둘 모두 서로를 배신하여 죄를 자백하면 둘 모두 5년을 감옥에서 보낸다.\n",
    "+ 둘 모두 죄를 자백하지 않으면 둘 모두 1년 감옥에 갇힌다.\n",
    "\n",
    "상대방이 랜덤하게 선택한다면, 나는 어떻게 행동해야 감옥에서 빨리 나올 수 있을까요?"
   ]
  },
  {
   "cell_type": "markdown",
   "metadata": {},
   "source": []
  }
 ],
 "metadata": {
  "interpreter": {
   "hash": "4ba0a04f1d99dfb97f2723b46bc6ec7937410bbe0383fee1c94d60f08e385102"
  },
  "kernelspec": {
   "display_name": "Python 3.9.7 ('base')",
   "language": "python",
   "name": "python3"
  },
  "language_info": {
   "codemirror_mode": {
    "name": "ipython",
    "version": 3
   },
   "file_extension": ".py",
   "mimetype": "text/x-python",
   "name": "python",
   "nbconvert_exporter": "python",
   "pygments_lexer": "ipython3",
   "version": "3.9.7"
  },
  "orig_nbformat": 4
 },
 "nbformat": 4,
 "nbformat_minor": 2
}
