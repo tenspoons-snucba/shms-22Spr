{
 "cells": [
  {
   "cell_type": "markdown",
   "metadata": {},
   "source": [
    "# 05/21 파이썬 실습\n",
    "파이썬에 첫 발을 내딛은 여러분 환영합니다!  "
   ]
  },
  {
   "cell_type": "markdown",
   "metadata": {},
   "source": [
    "- [ ] 편집기 설정\n",
    "  - [ ] 들여쓰기 너비\n",
    "  - [ ] 들여쓰기 가이드\n",
    "  - [ ] 필요한 경우 글자 크기\n",
    "  - [ ] 필요한 경우 행 번호\n",
    "- [ ] 단축키\n",
    "  - [ ] `shift+화살표`\n",
    "  - [ ] `ctrl+shift+화살표`\n",
    "  - [ ] `ctrl+화살표`\n",
    "  - [ ] `ctrl+c / ctrl+v`\n",
    "  - [ ] `alt+클릭` / `alt+화살표` / `esc`"
   ]
  },
  {
   "cell_type": "code",
   "execution_count": 12,
   "metadata": {},
   "outputs": [
    {
     "name": "stdout",
     "output_type": "stream",
     "text": [
      "Collecting gTTS\n",
      "  Downloading gTTS-2.2.4-py3-none-any.whl (26 kB)\n",
      "Requirement already satisfied: click in /usr/lib/python3/dist-packages (from gTTS) (7.0)\n",
      "Requirement already satisfied: six in /usr/lib/python3/dist-packages (from gTTS) (1.14.0)\n",
      "Requirement already satisfied: requests in /usr/lib/python3/dist-packages (from gTTS) (2.22.0)\n",
      "Installing collected packages: gTTS\n",
      "Successfully installed gTTS-2.2.4\n"
     ]
    }
   ],
   "source": [
    "# 필요한 프로그램 설치\n",
    "!pip install gTTS"
   ]
  },
  {
   "cell_type": "markdown",
   "metadata": {},
   "source": [
    "## 파이썬 첫 발 내딛기\n",
    "파이썬에게 인사를 받아 봅시다.\n",
    "```Python\n",
    "print(\"Hello, world!\")\n",
    "```"
   ]
  },
  {
   "cell_type": "code",
   "execution_count": null,
   "metadata": {},
   "outputs": [],
   "source": []
  },
  {
   "cell_type": "markdown",
   "metadata": {},
   "source": [
    "### 문자열\n",
    "우리가 쓰는 글은 `글자들의 나열`이라고 생각할 수 있습니다. 프로그래밍에서 사용되는 글자들의 순서를 `문자열` 자료라고 부릅니다.  \n",
    "파이썬에서 문자열은\n",
    "```Python\n",
    "\"이렇게\" # 큰 따옴표로 감싸거나\n",
    "'저렇게' # 작은 따옴표로 감싸서 \n",
    "```\n",
    "만들 수 있습니다\n",
    "\n",
    "따라 써 봅시다!\n",
    "```Python\n",
    "print(\"만나서 반갑습니다!\")\n",
    "print(\"제 이름은 박찬우 입니다.\")\n",
    "```"
   ]
  },
  {
   "cell_type": "code",
   "execution_count": null,
   "metadata": {},
   "outputs": [],
   "source": []
  },
  {
   "cell_type": "markdown",
   "metadata": {},
   "source": [
    "### 변수\n",
    "우리 반에는 11명의 친구들이 있습니다. 친구들에게 모두 인사하고 싶습니다.\n",
    "```Python\n",
    "print(\"안녕? 좋은 아침이야!\")\n",
    "print(\"안녕? 좋은 아침이야!\")\n",
    "print(\"안녕? 좋은 아침이야!\")\n",
    "... # 총 11번 해야 해요!\n",
    "```\n",
    "이렇게 똑같은 문자열을 쓰고 있는데, 이건 매우 귀찮고, 실수하기 쉬운 일이에요. 그래서 우리는 이 문자열을 저장해 두고 재사용 합니다.\n",
    "```Python\n",
    "hello = \"안녕? 좋은 아침이야!\"\n",
    "\n",
    "print(hello)\n",
    "print(hello)\n",
    "print(hello)\n",
    "... # 11번 쓰세요!\n",
    "```"
   ]
  },
  {
   "cell_type": "code",
   "execution_count": null,
   "metadata": {},
   "outputs": [],
   "source": []
  },
  {
   "cell_type": "markdown",
   "metadata": {},
   "source": [
    "### 문자열 연산\n",
    "```\n",
    "내가 그의 이름을 불러주었을 때,\n",
    "그는 나에게로 와서\n",
    "꽃이 되었다.\n",
    "```\n",
    "\n",
    "친구를 꽃으로 만들어 봅시다. 친구의 이름을 불러주고 싶어요\n",
    "```Python\n",
    "print(\"동우야 안녕? 좋은 아침이야!\")\n",
    "print(\"채연아 안녕? 좋은 아침이야!\")\n",
    "print(\"효정아 안녕? 좋은 아침이야!\")\n",
    "print(\"다솜아 안녕? 좋은 아침이야!\")\n",
    "```\n",
    "\n",
    "그런데 똑같은 부분은 계속 쓰기 귀찮을 것 같아요. 어떻게 할 수 있을까요?\n",
    "```Python\n",
    "hello = \"안녕? 좋은 아침이야!\"\n",
    "print(\"동우야 \" + hello)\n",
    "print(\"채연아 \" + hello)\n",
    "print(\"효정아 \" + hello)\n",
    "print(\"다솜아 \" + hello)\n",
    "```"
   ]
  },
  {
   "cell_type": "code",
   "execution_count": null,
   "metadata": {},
   "outputs": [],
   "source": []
  },
  {
   "cell_type": "markdown",
   "metadata": {},
   "source": [
    "### 파이썬을 통해 계산해 보기\n",
    "컴퓨터는 당신보다 단순 계산을 잘합니다. 그러니까 한 번 시켜 봅시다.\n",
    "```Python\n",
    "print(5 + 3) \n",
    "print(5 - 3) \n",
    "print(5 * 3) \n",
    "print(5 / 3) \n",
    "print(5 // 3) \n",
    "print(5 % 3) \n",
    "print(5 ** 3) \n",
    "```"
   ]
  },
  {
   "cell_type": "code",
   "execution_count": null,
   "metadata": {},
   "outputs": [],
   "source": []
  },
  {
   "cell_type": "markdown",
   "metadata": {},
   "source": [
    "\n",
    "좀 더 친절하게 출력해 볼까요?\n",
    "```Python\n",
    "print(\"5 * 3의 결과는 \" + str(5 * 3) + \"입니다.\")\n",
    "# 참고로 str( ... )은 안에 있는 것을 문자열로 바꿔 줍니다.\n",
    "# 뒤에 무언가를 쓰면 파이썬 프로그램은 이것이 코드가 아니라고 생각합니다.\n",
    "```\n",
    "아래 코드는 위와 같은 결과를 내요\n",
    "```Python\n",
    "result = 5 * 3 # 5 * 3을 계산하고 그것을 result라는 변수로 저장해요\n",
    "print(f\"5 * 3의 결과는 {result}입니다.\") # 위의 방법을 사람이 좀 더 편하게 쓰도록 만든 문법이에요\n",
    "```"
   ]
  },
  {
   "cell_type": "code",
   "execution_count": null,
   "metadata": {},
   "outputs": [],
   "source": []
  },
  {
   "cell_type": "markdown",
   "metadata": {},
   "source": [
    "\n",
    "위의 계산들은 정수, 혹은 소수를 돌려 줍니다.\n",
    "```Python\n",
    "print(type(3))\n",
    "print(type(1.333))\n",
    "# type(...)은 ...의 종류를 문자열로 돌려 줍니다.\n",
    "```\n"
   ]
  },
  {
   "cell_type": "code",
   "execution_count": 20,
   "metadata": {},
   "outputs": [
    {
     "name": "stdout",
     "output_type": "stream",
     "text": [
      "<class 'int'>\n",
      "<class 'float'>\n"
     ]
    }
   ],
   "source": [
    "print(type(3))\n",
    "print(type(1.333))"
   ]
  },
  {
   "cell_type": "markdown",
   "metadata": {},
   "source": [
    "\n",
    "이제 우리는 성적의 평균을 구할 수 있어요!\n",
    "변수에 값을 저장하고 사칙연산하면 더 편합니다!\n",
    "```Python\n",
    "sum = 0 # 점수를 담을 변수 만들기\n",
    "sum += 90 # 국어 # sum = sum + 90 과 같은 표현입니다\n",
    "sum += 80 # 수학\n",
    "sum += 90 # 영어\n",
    "sum += 100 # 사회\n",
    "sum += 90 # 과학\n",
    "print(sum / 5)\n",
    "```"
   ]
  },
  {
   "cell_type": "code",
   "execution_count": null,
   "metadata": {},
   "outputs": [],
   "source": []
  },
  {
   "cell_type": "markdown",
   "metadata": {},
   "source": [
    "### 리스트 / 반복문\n",
    "다시 친구들에게 인사하는 문제로 돌아옵시다.\n",
    "```Python\n",
    "hello = \"안녕? 좋은 아침이야!\"\n",
    "print(\"동우야 \" + hello)\n",
    "print(\"채연아 \" + hello)\n",
    "print(\"효정아 \" + hello)\n",
    "print(\"다솜아 \" + hello)\n",
    "```\n",
    "이것도 귀찮아요. 우리는 로봇이고 인사할 때 이름만 바꿔서 똑같이 인사해요.\n",
    "그래서, 인사할 친구들 순서를 저장하고, 그것 대로 똑같이 반복할 거에요.\n",
    "파이썬에서 리스트를 만들 때는 `[담을, 것들, 을, 쉼표로, 구분해서, 씁니다]`.\n",
    "친구들 이름을 하나의 리스트로 만들고, `friends` 라는 이름으로 저장해 봅시다.\n",
    "```Python\n",
    "friends = [\"동우\", \"채연\", \"효정\", \"다솜\", \"현수\", \"원호\"]\n",
    "print(friends)\n",
    "```\n"
   ]
  },
  {
   "cell_type": "code",
   "execution_count": null,
   "metadata": {},
   "outputs": [],
   "source": []
  },
  {
   "cell_type": "markdown",
   "metadata": {},
   "source": [
    "대부분의 컴퓨터 언어들과 프로그래머들은 숫자를 `0`부터 셉니다.\n",
    "```\n",
    "A: 너는 내 1번째 사랑이야!\n",
    "B: 그럼 0번째 사랑은 어디갔는데??\n",
    "```\n",
    "(농담같죠? 그런데 놀라운건 저렇게 말하는 사람이 있다는거...)\n",
    "\n",
    "친구들 이름을 하나씩 꺼내 봅시다.\n",
    "```Python\n",
    "print(friends[0])\n",
    "print(friends[1])\n",
    "print(friends[2])\n",
    "print(friends[3])\n",
    "print(friends[4])\n",
    "print(friends[5])\n",
    "\n",
    "# 그리고 이건 따라 써 보세요!\n",
    "print(friends[0:3])\n",
    "print(friends[3:6])\n",
    "```"
   ]
  },
  {
   "cell_type": "code",
   "execution_count": 13,
   "metadata": {},
   "outputs": [
    {
     "name": "stdout",
     "output_type": "stream",
     "text": [
      "채연\n",
      "효정\n",
      "다솜\n",
      "현수\n",
      "원호\n",
      "동우\n",
      "['채연', '효정', '다솜']\n",
      "['현수', '원호', '동우']\n"
     ]
    }
   ],
   "source": [
    "friends = [\"채연\", \"효정\", \"다솜\", \"현수\", \"원호\", \"동우\"]\n",
    "\n",
    "print(friends[0])\n",
    "print(friends[1])\n",
    "print(friends[2])\n",
    "print(friends[3])\n",
    "print(friends[4])\n",
    "print(friends[5])\n",
    "\n",
    "# 따라 써 보세요\n"
   ]
  },
  {
   "cell_type": "markdown",
   "metadata": {},
   "source": [
    "하나씩 모두 꺼내보는 방법도 있어요. 우리는 `반복문`을 활용해서 그 일을 할 겁니다.\n",
    "```Python\n",
    "friends = [\"채연\", \"효정\", \"다솜\", \"현수\", \"원호\", \"동우\"]\n",
    "\n",
    "# 들여쓰기를 잊지 마세요!\n",
    "for friend in friends[0:3]: # friends에서 하나씩 꺼내서 friend라는 이름으로 저장할 겁니다.\n",
    "    print(f\"{friend}아, 안녕? 반가워!\")\n",
    "    # 모든 내용이 끝나면 다음 friend로 값이 바뀝니다\n",
    "\n",
    "for friend in friends[3:6]:\n",
    "    print(f\"{friend}야, 안녕? 반가워!\") # 아 자가 야 로 바뀌었어요\n",
    "```"
   ]
  },
  {
   "cell_type": "code",
   "execution_count": 14,
   "metadata": {},
   "outputs": [
    {
     "name": "stdout",
     "output_type": "stream",
     "text": [
      "채연아, 안녕? 반가워!\n",
      "효정아, 안녕? 반가워!\n",
      "다솜아, 안녕? 반가워!\n",
      "현수야, 안녕? 반가워!\n",
      "원호야, 안녕? 반가워!\n",
      "동우야, 안녕? 반가워!\n",
      "찬우야, 안녕? 반가워!\n"
     ]
    }
   ],
   "source": [
    "# 따라 써 봅시다"
   ]
  },
  {
   "cell_type": "markdown",
   "metadata": {},
   "source": [
    "이런 방법도 가능해요.\n",
    "```Python\n",
    "friends = [\"채연\", \"효정\", \"다솜\", \"현수\", \"원호\", \"동우\", \"찬우\"]\n",
    "\n",
    "for i in range(6):\n",
    "    print(f\"{friends[i]}아, 안녕? 반가워!\")\n",
    "```\n",
    "이것이 되는 이유는 `range(6)`은 `[0, 1, 2, 3, 4, 5]`와 비슷한 것을 주기 때문입니다. 이것을 활용하면 몇 번 반복할 지 정하기 쉬워요!\n",
    "```Python\n",
    "for i in range(10):\n",
    "    print(\"안녕하세요\")\n",
    "```"
   ]
  },
  {
   "cell_type": "code",
   "execution_count": null,
   "metadata": {},
   "outputs": [],
   "source": [
    "# 따라 써 봅시다"
   ]
  },
  {
   "cell_type": "markdown",
   "metadata": {},
   "source": [
    "쉬어가는 시간: 우리는 이런 일을 하고 싶어요. 오늘 마지막엔 실험 결과를 보고해주는 코드를 쓸 겁니다."
   ]
  },
  {
   "cell_type": "code",
   "execution_count": 15,
   "metadata": {},
   "outputs": [
    {
     "data": {
      "text/html": [
       "\n",
       "                <audio  controls=\"controls\" autoplay=\"autoplay\">\n",
       "                    <source src=\"data:audio/x-wav;base64,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\" type=\"audio/x-wav\" />\n",
       "                    Your browser does not support the audio element.\n",
       "                </audio>\n",
       "              "
      ],
      "text/plain": [
       "<IPython.lib.display.Audio object>"
      ]
     },
     "metadata": {},
     "output_type": "display_data"
    },
    {
     "data": {
      "text/html": [
       "\n",
       "                <audio  controls=\"controls\" autoplay=\"autoplay\">\n",
       "                    <source src=\"data:audio/x-wav;base64,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\" type=\"audio/x-wav\" />\n",
       "                    Your browser does not support the audio element.\n",
       "                </audio>\n",
       "              "
      ],
      "text/plain": [
       "<IPython.lib.display.Audio object>"
      ]
     },
     "metadata": {},
     "output_type": "display_data"
    },
    {
     "data": {
      "text/html": [
       "\n",
       "                <audio  controls=\"controls\" autoplay=\"autoplay\">\n",
       "                    <source src=\"data:audio/x-wav;base64,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\" type=\"audio/x-wav\" />\n",
       "                    Your browser does not support the audio element.\n",
       "                </audio>\n",
       "              "
      ],
      "text/plain": [
       "<IPython.lib.display.Audio object>"
      ]
     },
     "metadata": {},
     "output_type": "display_data"
    },
    {
     "data": {
      "text/html": [
       "\n",
       "                <audio  controls=\"controls\" autoplay=\"autoplay\">\n",
       "                    <source src=\"data:audio/x-wav;base64,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\" type=\"audio/x-wav\" />\n",
       "                    Your browser does not support the audio element.\n",
       "                </audio>\n",
       "              "
      ],
      "text/plain": [
       "<IPython.lib.display.Audio object>"
      ]
     },
     "metadata": {},
     "output_type": "display_data"
    },
    {
     "data": {
      "text/html": [
       "\n",
       "                <audio  controls=\"controls\" autoplay=\"autoplay\">\n",
       "                    <source src=\"data:audio/x-wav;base64,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\" type=\"audio/x-wav\" />\n",
       "                    Your browser does not support the audio element.\n",
       "                </audio>\n",
       "              "
      ],
      "text/plain": [
       "<IPython.lib.display.Audio object>"
      ]
     },
     "metadata": {},
     "output_type": "display_data"
    },
    {
     "data": {
      "text/html": [
       "\n",
       "                <audio  controls=\"controls\" autoplay=\"autoplay\">\n",
       "                    <source src=\"data:audio/x-wav;base64,//NExAAQmxYAAEiEuQYWHCdAA5MhHzZIXazYXQskiozyf6n77yUa36///+3Ta9feT///////ano08//6vIxCIQhDnOc5znOAAAAAAAAIIwo7N9DkokDQMPvm0y/O2rmd//NExBARqDowAVsQAOtYg2WDhxyEjHTgshvFRUutfJzg58hqcmmLCwAObgtoKKquLk1vORAEWtlBdjN0/VYxJ+5TsT0OPXjIAHVOIAL8f+Xv+LG///MAEUh+OIByBuf5//NExBwZCypgAZpoACwJIG4a/+LAJwHMHAPD/8uFxhvEsHh//lwkCgkJ4PAYD//8kCUHgkSgwBJlMef///7G6a0ymhZOb/////5w0NFpm6blNCX1GioGckSruLCE2Saw//NExAoUkYa0AYwoACfcv1oHYY5WdDjxzCwdc4oMzCbEUo5meh8m565dVpq7KLqqqTXQ9DUYaLlyjwMVWpVSxGnLogqIVRro5o87cTen2wKXYZOfUiqNPqITZw3I0SSE//NExAoUoT6cAdpAAAACMIAaCKgTEg2vLocSy+7jy+CWJvfBDLIAchlD2EguCgNQ9qSu+kabubljqrnmkl3jv6pZf//GGDAwpjfVRd5Hd9/zE+ADYUqMwAKvz0qF7qLA//NExAoToVacANRMlFjoJbhlLo0bpXXUJrCRigDUS0LoJhPAB0XKRQZowQIESNE2+pq3q1POGVoJXF1rZ/v+U2zTImmheSCPJnX///7Fuf8qqn1aUIE83QYZKIwUy8yV//NExA4VmU6YANzMlHqsKkYPBTsiMTh2qBFotpBACYgtUnQwcCJxJFghrIkXNa39RrWqtLMK7Tz6bQzunn/7b9zx8MVpaSLnHT////FmFQ/0i00AQ1V8nuIgkN0VmCga//NExAoTwV6QANzOlD2qwQwsHNKdxoAiRiQM98SCqCFHMAxREGmozQbEmoYrojQXMtWm061bVLoLWQOdQPZCD/1bfPMQamxWRyX///y0iWf6qYKeMCNh2gW2hIGGkAcr//NExA4RwUqQANtUlAQKm5ijV6QHD9iAgAlEMdok6SAsxuj+SVIkazXfO5169RvIhboF+yBgyCs1Nde++dlp73f//vIf6pUqqIYwyEzZkMgRo4qlmkoBnhtYmBROPT5G//NExBoSkP6QANvWcFES54SLZqUvETCFa9vtvz9tX5Y/NmSPRosUeKyZRSc1BAEnOwXAs8r9v//gIUOo+tXTamDQgcLB5EDm9MKEBnDvmFwoiROEpG+q0itHOOpzbKb+//NExCISaQaQAOYacKAoR8Ewj/5oZhmL1Kx42GHZQdSmsYo8FotmLzWlZwqcZ///7lq/TIKUqoCuE5uRSuWmfl4NUBMNyX6Tahd0KAXllwSdzgVh+mLRJhe31PKl1mmj//NExCsRaU6QANNUlFBRNBlDRJFSoifoX2/0bLU///+QEYVTb7lvRaKBgADnfBBMEt+Y8XQzSmECI8PvKH008zgGNyT5vMmiFquy7i9qm+cevlJyOqbuBK8A1dQLNkgL//NExDgQ+O6YANvQcD6vw4swS///+h38QJQ8JKoMJTbtGTPlUUXXKpYSrxhFCXvgPyLDDFAowj9ABhA1sxHqjVygm/bFZ9CGYzhQSHCxA8RTEdP/+5liFLm///+t7P5J//NExEcR2UacANPOcFXU4pmeEY1ehMEdTXpk3h6XPwUhnC26xKataLSi2RoXFNMRf05KBx6ajECvnMj2wvPh4cuhPBbut6LVDRG5v///7v6VnZpPU9hndgIRORe2sART//NExFIQoN6oANPScFiYgXkjj0nZrN7Tq6cYj5i7VoLXXh6vEsnQrCL8gYW4uHiCggwhn/vTvc/cINSBQeZRQo3///0qyoRxB0e/lUxnjMbHLCwpQ3STYYzvIVlIr6sx//NExGIRmVKwAMsQlAX+Z3brxHMTMXkMV2O1ZgDVHhOpZA+IF/nhbqb5bh+yzXLcUOr////d///+iu0qcx4wajMZEiCv3GCpIBK1M4khLhcFOR4Z1NbnAVyolZUMisyH//NExG4R4UqwAMLQlKrcWxQMK8yHayiHhhlgMpQKJuVgQAgGAxnDgQcQMCunkOZbGpd1tyG2JW9BbMlDf///N////6KQR5VU5EqG2qFhkxaqXjM+kiaSoXRsudd/h8cQ//NExHkXMV6oANPMlJ9DyLSGUKhlE+0udmmewNLpSlm+Sm5CJma2Ut3Aed44edKaiCCRqoOVSJhjLitE3FuU6dUagyyNrxMRFqDEt8tUOrtkcldhzb6Nd3YgOf//VKiE//NExG8eQWagANYelCTTQ+hDGK//95KWS8YaNidpjhgJ/+AAF63yGCwy6dIDicnWUaKGtMfBN91H4SPlsaUAf6AGqo5MoayRKemA0sYPh1lr7VI7jhJI1HIKiIfUJIYl//NExEkbCW6kAM4YlGLzIfOISmqxK5Q5cvT846cdMn4Cz8xQdFsN///9XtY5X//1VbeC8gl+D5ltFdzbWgUHI5UFRFPSucDn0zTl4uU4TTnMhcBQI097oNVkYRHWcL/n//NExC8WEVq0AM4MlCVU9PRQ1Yr6s3aycKJWmkRPAjwhhz4Tmipj7vfNYttR3DYAobZ////61Uu+BdgFBltYuRjQlLEWS/l/QosjJFxXTMXlOq1SMSejwp25fiYPB4Gw//NExCkSEQq0AHvQcC+i3V2Ou+XTrm9VkgranOFXhB6ywoLJF3LQPR////qVlUubqAsVLqmEhlDCW/aih4Oc2IYasO01wzAjilXhYD6uTgk7UkydnGXwHBDMD8+bdHf6//NExDMR4SK4AMPQce//j4W2IcxXIFLgxYfB+I6I7CyeRY+ByAxYhfH94JirBPAOlgRBWFIDAcHsujoJacRFxwDIcTcCQPjcX0rkwxsSus3r9WxnG80trda4rBpWEPhF//NExD4RYQLAAHsecSr3379LA7vFSxdDqVBVFPKbxpMTPKcR5nsUSSJchKLOU6TRQ26w4CkRikFdLHwVNlG5rLSkt4ZW+Xlt+8qEqau8y2a1V/dpMmOGjCSNLzLEIUhR//NExEsRMRa0AU9IAWQFLBJauwvaXeW8X2CAL0jQi6w8FEEQEhNpdOmXJEolvi7qJiVrXVcOAFpooO6XlCiAuGHZBqWUmDsxm1df2BY1cnqWkpLEsllWgvvDTTMZoZyB//NExFkhqc6wAZjAAN1oBgqkpL1JUrUlvUMzEriuqamlMRlEP54bw/+f/1cd47//+zarbR/+FT3t/1LKlM5XHEhK5ZI6hkPxyVihbCgNdOIJUJ1OLhzcVCelUwaEY0Jo//NExCURkRrEAc9gAUxwPDnqKtTeuT3WzZ6a5n87kFP/qwYOW1xkwWViHNXE/2rUMDxYwXB2xmlbG+cANPHAviQQxYNIlCUfpEMmFMoNmy5UdKnYwRORKLA7johlh082//NExDETCSK0AMMYccxan1vW7U2lp152NdZdltszpz7UsNZcxhHd/dWGxUTkk0wzaaCtirWypoKBK2A0lWotkwZqHwqtRo8j2k0r3UsQ5oShxA6EpydB8XDJRSm1Q5tX//NExDcVCRqgAMPYcO39bnqtfLUfLnvUMZQx1Iolzrf//+yz//+lz2DVqnVEYoPnsjAZxLAtSmECkT6CwdFIFVOnTxO5IwUYhyP7VFbYzWzT6xP2GoNgFMgqBkdTxXEU//NExDURoQKMANPScL7cJeo5NVA9WICngEGuVdzpWpMYOrn3ggVTDZk91TXSJKMzQNesDGLQg21SvuI2CHJhHq8yOd9EMyckZT1xeJSsgMgjKQVSmFViAmBOZMBYoHXI//NExEER8QZ0ANvGcP5bWr//9C5MQR0po5UYSAHzkqJQG2GCGWjSXwFLmrBsnmfMxRC/firoXGxhVZ6n84NbuS8S99HTuLwzJSZzkDCJJaSH/7f//6LP2aZCoKX51A8V//NExEwRMMZ0ANvMcCDN3WAKKGelqE404XVeMmMmAPFUeugtBxFCbZdDiUxNWtYXzpcU5efsbmEzEg9RQVscfSI3IUwp/6tLGalIV/6SH9elCyqJugEUzjAYcBzVwRTY//NExFoSeMZwANvGcDFt4QCp/0f8aDNtqrKJc2Trx0uSh/Vh28+fPfj88NTFwpOF0g299Z/31l+frSpLnPfV/SKjgj3On1qsw0bMJECYxYUwQR/REGY8UAJY1jCzYVcL//NExGMSaLp4AN4STKCHiC41ya6666/ioq0qwcAEEIhPX3/yCFBgPF6F/Zx6B4HhZZoP////d2m//0SYtbqThHVFwqFlSHefFVuISqL8RCKVEdCdkMYY7pxbrKvz2e5t//NExGwSKV6QANIGlKNdGu2XcDxgcGJym+GSVOn3eGOQNiWfI+b9dbKYhRggW5zv//0KsLYTTaeYRNcZw67CXdfZBHA790kEY/ILk3fn8Km/YpfZMQucUYrIzTIgFLBR//NExHYSGV6kAMJMlBWaRrLMSUhh9dFqnl625ev8+3KlP3QueMvqC0AUlEbRgTICwYKCk0BY8SDl3zFgTVDV+aIKR7WwUMTsdaGBgEkK0McNcYJNygDkCNivnWIcPsO0//NExIARsVK0AVhIARnAJynF4SQ/jooT2OqGxPIFxXSmYieIQyxJWdbQRtsjZIyoSxOG2uKp1uqjZ6w12iXngwO9TyZYWW0e+f//9V3///C7G/kP/+tKEfmSCLX3BDGS//NExIwg+cakAZl4ABZSx+kRneNPVBRtXUSTa011y39h6iblnATE1k1QkZfhfHdKyqV9mNPJqbOfbcL6lrmNe2qQYsOlYesRfW16/19bXfZlt2zhfHv11b1tIgXm/Bc9//NExFsUoV6wAdh4AWY9ZaR309QQpUEpDgr+UeBS2cJlIJ2BomtSVuQuEkGkSMqTbjPfB0VmLVnW613PHLDfcPlwnsL29YklbS0XKho+I8QM7NaVDsBHUEiWBAa05/H9//NExFsYSYakAMYSlOv///+x1SqR1EvjmgXOQmg5Y2gqAMIEZo2QQC1RppAKxdBrKt6RG0Gm5q2hgTKEu2Z1Sxt52TzmOF/HnbVvl7XOa3O2kvkrhe3eSuFU3h8TCk9d//NExEwYgXKgANYSlM1JnlSZgkRkJctKSBmwaFYf////rWmlkhYHNOCI6L/t5I2RDQkQeoWGlruihZfDqXqlkYVuLpucslJ6Tw05Ubzq2e93/6z/fO/vRQ/JMm5e8/QM//NExD0TAWakAM4GlRQbLqhhjGBEMYZxIVS72+7nD7K1IXQIhVPGkQmGyinLYwaXgQET4ZkcA6jLiA4PIqZEy4OEmXND/uupbNZTS6N0+Ut180z6YVs7mqxszAVKBwlq//NExEQSEV6YANRGlP///+WqjDNS1Z8Jk77tFkQUXO0skxkMjsMMUca20owDkbMIBWlMNefyD6aWON2eseU+VaR5/SaHTxg2B2BQmSBI7rKuDosYSzR////VTbHSRGAP//NExE4R+OqIAN4GcNC1KjIGDDhGqPw1xmKlkBcNyELIshfiDKayAdJpIRD/aYbnf6JXPdPQ64c3YPnFOu4cyEYJAC70MsY9qV////1qhhQ4/zWEDtCXrXAgpx09UjV7//NExFkRmRKMANPGcJJUozIeiEUfximqZZIToioaqmBzZVuWJg1rQThyRYW4lAYkwT4ESC6GYcYNkVdR8TIHkQrOoVV6wuROCEAAo0TNHIGikdyEKXfUfLaGJ+aikKh4//NExGUSGRKQAMvGcCUeNjkmE10UE4eBkvc+ODfcdOEN+RNlSadR+k1IJ2hqa7G9eOZqa2pbnGjJJCpdgjumtECt4jZCMyJOGdEQaSs6fA9ToCsyOiAEwVkkSC0bHiGX//NExG8SSRaMANMMcIzMTh70quMjsQdUK8aqCFQ8gpBhwo6hMHH/Klsew+mmMAnOJNB1g4tw4YYwgtbr6xCWPuiqUBanCSozx0oadxYoNT9Li4tzLCfPldcqAn4USjUE//NExHgRMQZ8ANMGcEGcSGFf4Y1Jm9ehQk8KB0sSysRE7ZHpSuf8DRQkpUsFhL+yow0GBwISUacc4gLiLliBMpeRwhApFjRyh8uEWnRMwWmnU1L7XVI+pXeocdVtx6st//NExIYSgQ5gANPGcI3X/rpGCfiIJsV4oXjizuahgBVApxFIWMCtI51AKjk4fkxtHQGmKVvJQzw0DsKoAbmQCJBzQkEhUVnsWSekjyUuZklciu3o/X0f/RUAzAWxDy90//NExI8P4IIIAMGMSIDWh6HjJ2AQAIdwYGBvOgYGSRAGInD6C4eiA40uflzUQHJcPxOHogDEHz8Th6CByJz8v//buw/WH85WCDk4FCPErVlJMbOB5AwgoCNwgQQJGQ2J//NExKIR2M3wAHmGcAQGCI8IGBhsWuY9iHRZlWh3/ftlQ7EQNColBVwKh14NA0KiUFUAE28sxa+/p9egy+KVM9UM6NAItAOYUavyPrMUhFGLw7H6Nls87MFmpCE0lksV//NExK0QeHHoAHmGSKxDUXoT1L7qmM5PHMLsaeGidvrr3LqIn2lEyy8zf2IZvoTEaQZiJgo6QGweJQiehiM1Gau1ktj80OoTUzrXrPJo8RDIzo8I2wX6RIyHXSbNgr4L//NExL4SWGHkAHpGKAkiPUjRpIuzQFACdQpAijGkn0JTv0Cp/h1/Xsfl/oXAUP7DiuMHCOS5gwyKXKQWRqO56qqCuZMzB1fIZbMoJWzm3njFG3C/GqKanfpbr0zyd6ZM//NExMcf4w3YANMGufkWrq1N45dFLgz7kdZTRcpTVIRWLg51KegU48yuqRc0+o2jzGubhIOILsBeBVD+ZmJRTsKXOAQVVEko3AIU0DKIlA0DQK4NBwFcRHSusNeJfKyu//NExJocAwHkAMJGuFXcrLdyn11P3qfvUez0957yXkkFsCIBBgfAjYmAuY9BBy/px+4Obg7iwixCiKnA+DwhFRMZayaRCTDgMBsUCsgIziE2TkBc4VIiEmPGEcIyc9hG//NExH0PMHHgAHmGSI1F6/FZhI5GWaIHCAwQVlNwgMMJFDDiBAcIpo6BwYIGGUy/2IyMjMjL//R0ssn/1iIyMjL7/kaO6OlhHJZWUdGWqVAwBX4S3MazaFK9nFOmm67s//NExJMhIu3YAHpGubbs7eNt37gSOPvUel33Xjtaek0MDg6AeD4JGhAUofiCUDcSh0QEBFDxDQ4kgQBEHmQ9DKQg9jEe0SpuCKm4TSNLG2w+zIdWL1u6Q8a1sNkf0eXA//NExGEguoncAVhAAdt5u6t3Le57r3d4Svfl7RK+b+IMgy8hBUheRFKgL0CgLTYWGwIJQdQl9E1rGaVj/wl/aDdFhLIcCITL6QoZCHtwIijRMhhm7zIkjBxaLhiWbHva//NExDEd4yIIAZgwAWR9krt9EY7Q2/e52p4+ymnL8net/v2vUezakqyqyX73nbPr7v+5r9vrNXntrK/3YaP/9/3W7R//8fz2////zofoHpkyek1qjOBjcPl7gOHggT2O//NExAwUkio0AZwQATNX9eTvfrU/dpVmQpzum587Ur2WjIYzk/Z2V9iLb+yMr8y7N/1QzZNi1ViMX//dY96d+GKKolP/Fi5x3yQK/fsz48+1d3lqG0MI256e/fQ7/Of///NExAwU4yqgAYc4AOdR//39bPc//ecx6jQYYH4eMCJ/ycfJo93AEMA0JiwnPGV//X3yZ7ogsJyZEbDhxAkLP//5hl2f+IhUwH4+A8IDReC8mEg0eiX/////////+S3z//NExAsTOxrEAcEQAJzEKY4vBpCiyCHJ3Mpp0NIlHSzWoWTNKi5MpinZZnRnU7BBao6vkoUQcxA6uQBMxxyEcGO5wAQAOZQOcg6nKcFD0xBZlIyvX0VnK90I9v5z/Wnu//NExBEWoxrAAAiGvMZ02VEeWSctzgAICYoYMkOk3FUMGaUlPR5Cy1fK1yMMzVTIwTZw12glYbsxDMKoNgmoZhQbBIOsKVLg1bxsjJ2BOjeQlTMUKmNF2F4JCIvaWVi3//NExAkRIT68AGCEcNq0yLTzSq4JtakfzIvuZ0ckxquay+wY+FYySreVGmB7rb4dOyTvU+WOjuWKhodEqnsiz6LT1j3JNRdJBakZzP9tlssCySGrODNVWNPpDTk5RZhE//NExBcRKOKsAMsGcLlcEhZO7mxaBQbFaFOjfosovZ2choESIIArcxPi5ULNccU7z3//9vVX/+Jf8RKlggVPnFRMnxAr9ucMGSQkSOmgpq3SiKUY4GWEB1gZp0qhY0bE//NExCUQMU6kANRKlASRIrSL3zjaWp0QiKsEhdI3T6Ni2Vo15QxkFK6lf4EC5zAsmbDxjSxNt1MEZAwebVuyjHj4DlTxRAPM3H8ArBNWKDy8PTzv1Pmu+V0DSxNr++R0//NExDcRGUqcANyOlGlXPYTvL0////LO/vGVtPCQIjcQW6P6aejBq4zDvgckqQE6N+aRKk0EjzUR5QXukdugfPm5bb/f0MSbUlWqwtlEEK30O5nozqJHcMLgo1n///oX//NExEUSEUacANYEcGfF5JWipG2OdDl7x8xQ3Bz27QyEGKlK3pYpVOVUZS6D7KrBKnNtOFP/KZfn25/+r5KOe5EMeoNLt/0tqxhACQODBkDf///Slv48olWWXGqi6y90//NExE8R0UacAN4EcBgXBSLXha0jBHBCChgqG0xzQg2LAQ0LXQC4GiyOdjEmKjJvrP6fN8TlDqREFF5vff92jRCgqOCv///pFD/6YeXG6yA/65GGGiA6aMQ4d4zI0mkP//NExFoRoUqYANzKlH3mhJuH6hvJsRgb+AqFQwLJwnxnyDn6evpNRTziDCJMAQIwkB3f+v6kqI6D57///tKX/Wo4hbMcHQEz6TJgNnCNoOpHbeEQIIOZDQdEFS+1OLfP//NExGYSIU6cANQKlCiKg1cUJkDzMY4AcjbHlDZjPmCzKl8mQsCBNzQDGVib/7P6WjrBEFP///yKVXadkZBDKNhJsuSKBRkwiXCXaDDEwoBJKyvH71Ului6Up4RlMSJS//NExHASUUacANvOcL5PFcQpVW2OX/RNv7vZ13oLP1oH0SwebtuV8Of///2/1IV2aZI04cvKDGRQ8LXbnRMKkqv1Y3qLD9MGTEbyVtEOynwpw40KjqRxbUhl0n4IE81e//NExHkR4PKUANvScD4W7FBoLCAcArUYMkP3p9///9H+pXooWRHdHafbcDBz0y8cXumeCWsHUREAg0bAR2+jTQaJo0MiFY8KWPkn49skEJ1BoKbQkoLhVMAFHADToy90//NExIQRYPaUANvScII88DNNzEWsVC+OF50nbmxDc35Vztpfz6jsb/cM/1umK2qxtjyZSXhp9yeSu4mATAaUu//ykuF2DD62hEPgspP/8vC1RlXKMo3gsiV9KwoUtLfw//NExJEg0WqQAN4elCoeBRJg5fQHHqznVLfhorKGcESMArTAwamrgFsGaxNrBZ8oAVICGkEbOVhlCYNfdvoFciKQNQx9/nh+LKuW3JikSCGpcyz7KQ6DLNBigKNZ22Qb//NExGAf6WacAN5elFLtsNWXcU69ptyVOor8JBdqG/1/02HUi0SD1Ib//9NClkcIZTeKdlGcyxHPgseceFlIywjkiecbgbrLBYQOa0Uuu5DvPKms0Yven8pJgY0It6JM//NExDMesXakAM4YlC0oKEq1aLoPA5rvWoIldBXjywwP0sRyiQE5EHggj8I48GS502K7g48fNw4nhOqE47TjI3LB6eriQmQjzB3//9Mim0u4TCARJtbHUpq8TbgepAj8//NExAsUWWq8AMPMlM+lu6r6Ldcj5EeVrgjI6TOZRWTcNMqZmqaUIexIT+L4o4K0wxZaXhZlaoN/SlAubGnIAr2iZqW7nfG6V36hK2lRwz////1Vt04p2cm09HuliFUQ//NExAwUGSKwAMPYcGko5L5JoTcJ6S1qN2KxtFXiFXg2lbmbCHRGWsLYGZJh9Z72Wns/bu/a9GT1mh9D1uas8zUKzpkqCpEG1m97///yLuxNSosMepRBwnCkixJlDi3P//NExA4QwOagAHmGcIomNJVoMSSNRyq2nx2o1WqAgKgmyZVvwyLCqAW9xZHKw19clrT5Hct39Iws2kz+2rY58qqVCKIUIeAUluCSFyuoqj5PEQYQCmEhCEIjzCmoluCi//NExB4RWSJ0AHhGcFVYX1VpTZ1UEKZtqv8DHdp4j6zPx/O+JZFBENtyuW3bV7tWGluWdVUtUZppuZjQIsasOwWUwdWprNbLv/vHf6y/n+WmePwLmAt6yzzW/eGq0i82//NExCsQqRpIAVkYAAYkkPoRvbJXoWz1cSnahmlpj/nfs+pPWjgilKrYS1/GZoOftxhfvckiaVMq+5JE0yMlJP3yTMDIzMGW6Sb/MkVKdBaaJxM3/096K1mRuYSn/zem//NExDshYyqIAY9oAKY0MGNA5B0LuLcY4LAegswvv/5gaDzdNBCmg0IINwNwLWXAuZJrHkOxMcv//qY0TN1ugXGoKNMc4xxEEqQxyjuJULgMUChjCksO2n////////////NExAgSItbIAcEQAf//7/Q6PchFkciLBEVGPYW045jmQpw5nIPKQ+xBZBB3IVTBCoWEFkCBAaCQNFOlAAKOLBjhDEHEWoUSZf5L1Zp6C/////n/+D///Ov/3z//tnd9//NExBIU2vLEAAhMuf6eEINKwYbRR7OSIFY25plsclcytcrLRpJ1spMk5eaYxAXieq0pOqstRZttls8meHMH+fFFuTlE77tV7Y5gl5djda/5///X////38v///4cpERs//NExBERMprMAAhGuQ0DL5EVaCzQVUZUFqrE9zupKTrQRqjkRM03MMuakGOMGC1SBMucgZxOT8Sl/NBkl/fhfvE2QfLL+mnqv/9S7mde7L9ZSOwZvn/7WA/rOAgIlUpK//NExB8SUqq4AAiGuU1VrsaltDokm6Uqqq/TJpGM4VjUBXil/eNf7D4v7GGDHAtmfi/Sh6a41lWlviBB6czVuiYixJ2cldqWc7Q4sohRC0vfz/+OchhwMW9PdppxNArg//NExCgSqWqoAMDGlEDUyP+cSJjLBjQBZgciQDQULSu9bAartvK0lWvrOvX/+79SvxgCpDnA5gWVg5K10x50tc15NKrylImgMCkyKzIoXwkbmK9q788rOixY0kKjCMyE//NExDARUVKYANJQldMs6qMFkFpXm5Wr24X7pxUkVZhZ42p8CQDM5owE0hYSNoKSIJMBJyQGa6hPDhESCYfDwFpipA9GDhGJYjJBAMB6NFT+bOk5RcvGlegHxtIyYGYv//NExD0QiOKIANsScG0zHR6EVYAWUdcOBUFFFg1MJZcYsjpXsjCC2EhSJpjFKci7qpMEpZV2cS7Mp8nEfAez5lqXTRPbQxYWFbAjEwpG1F1oRfz/+279X//61Uv2XhqI//NExE0R0OqAANvScCgAEJgy2YEGYc86CV6kHYbD8p7Xlld8MqGHsrOddJM6nbv/+7+ZrbGmCfs/EraPe+HP2ELv7/bQg5OQ/BUysT54M7wG7mH8AOCnEWAKYjYKFRgN//NExFgQUUqUAVowAQOdjTQ+1B2QDR3GoIY/sBPesTbfmcVBvbmNcVFi7z5LEGZsOku88dcSBFGtN7BEA4NBurJQVF5samYgyYfzM0JI6B8OMJBQQRCDsUhn//1//7P///NExGkhOlqUAZlYAP/2PbE8TP8d/sj/ppw4UI8zJ+Fz4fSzNiQAmBow3zAnMBcy7ARcZRoGhLal5RaFWouBB0y50TfTEQCUcI4kEweBIWRckqTGsdYHxhxoVGxEfJlh//NExDceoxqgAZk4AalpznBUWDpSPDAOxoQccChA08UiMo6cca4uFhNyg0LHmMv/Z/57/+prKs5U7mNRjjfojZjfzTUq6f7s5zTl/6GFzOpKgIdciK7BG6No1MrL3O4i//NExA8RiVaoAdhAAKyCGcbe62Verbx7+tYT9ff1+/dRYuPCMWD+x6S7xdRXlIISB0hVzUcXj8dRqAoSb///2f///oRVihUY1BaA9tka31U2OukVjehTd/37ieG5+bn5//NExBsRwUKoAVhIAb/7FTCeVCHrbyHi2XRhdGJJDpslHy8y/jMu2vNu0+v18k5LbyqqlM0TDHPYSaGjCkR8IUgFyqVxBZSqqo0tyIT8g5Tdy1730cIhfmNlJWm1BEpa//NExCcaqXasAZh4AJKwvG1NpxWE8Z206lNo+iPL8zqEehUKRUQ2DMt4MW50qbbc/ZGNncIce+MTV3ez5tguMLFb4V8ekdXLE+aCyP////9SK8ZwPkOwLQIuf6+dxfU2//NExA8VYVK8AY94AEvXywkyFzP4cDxomOZdso/zcQhwy5OTarUgwLhURzonhYksjnsKDM6j1f+kbd8agzTxoUt8RI9KfVc1r/nUGgGWaB93obl6LUmwfIXISQHOf5wv//NExAwUcR68AY9gAAwV0fZum+XEToehAB2dplgJGwCB1AefkIHiwPQNglPRBAmbHdvpurZ13GnKbft2/2Zq1MF72c9wyxhRQmJBomFgyvoZ2EI5i+DLG6hIYUWKXE7k//NExA0U8XLEAY94AOk9LYUSHD3N5QvkhFL85J0dKCQhycVThPGUodpog7AzTa3v7z7WrjGcXvuu42dWrWTF4EKWP/nWvrNdVrqts73qO1HDTdRKD4E9J8NASMM0y1ay//NExAwUYSLAAY94AbcW0txbyTQB+nMacxB0ejnypJ0aUZvJ+n2RC0Uno64G83yXvm/n/vmNbOvf0h+utVpp7qtbYbQ5HosoebyoLG7//0//yyp6wh2LXCzUSFLEQ1mZ//NExA0SIW64Ac9YATaUXx0JUXSVEnMnEOVEx4qc3GgQIEhoAsNJiRkKWVr3xzD3fXc9Qx290e86VnrOR33M1UzMW6qXjs2tut3BkjyTKlGNlqGbMYXVXjPp4fb8oS4R//NExBcSEXK4AMPGlFMpSEhcz4xW4/i8Hcg0IkW74ruFn/ftpclnLkbEzH2QcgQGRcyLJustmofHtb////oqpUg41YY33XLnZdr0NFoV5iuP8aLyKcsJxPGdTGuchGC+//NExCEQyWK4AHvKlaLSLheFfds73/n9lVu6ZqOdUqKFFQZytVKujkMeJRo7H21V7mIDy1sbuagSBoguWMvHAWJKCFJA4FMhBxLaOerxypsez0lBfVYvvo0uszW19+t6//NExDAScW6wAMPMlLZXq3+s2a/bfsHOTAKDzrx4t1Tm+mZIUtgdljpgJUXIUw66DnZOdEpBIog7rWOZCjAXKnTzEk0JQxClallSLgUyjZLR559Vxj51rW6Rt239IexL//NExDkR+WKoAMPGlcMwQprp0oPn04J2s59zOsyQJOFP0VFE1Nos/cvZ48yOYWc0TdM5tQlTqxRHNBnZUUh65KxafGAjhHDGsraFZnR33Ra2rXcEKijsVCqgU+KlNdv5//NExEQROSqcAMPEcXt/iVGTpAIhMkHUjBcNUzWX1nCTFxKPjISTGiknSy2sAsMo0nuyrEnlbWlWKXsX6MraTMEti22gsGlot////koqtUtTTYz3NQSURjSFdh4ZI6Ve//NExFIQISaAANMKcDR0bJimcPnNwIqRxU7WpknPVsCUQOEhXZ21VvrT8tH+USDodcBRU6VFQVcHedvf7///9ao28Ao+YQAQOkAUDCQJcpLUZJbCfnYc5iE2Lif0J/Ea//NExGQRCSpcANMKcMAAxFQMFlkWBekGoJuewyAiYJuLCwq4MiwuhCxUk/vp9n/7v///2qoXEG0/FuPlcDKBdEi7yVECsC3mfNI0CrCqDRk6ZhhD6pEymLCxrFRVOpTc//NExHIRoKYEAMvGTHr53Qgr3ALa9+RTSWFg+WmhW+4JscSQMJIoK6oCeGyTg61YxrhTqQETyaNOEgRlw9ScJAij4dnONAij4tnY0oo+D6hYVDOKC3Ff/qbrFW4sLsxU//NExH4RsGnwAHpMKFtQuzFRbi7P/ULMxUU4tQpCMAAayMJCENpE5RkDBCA7CCAfCIOAATkA+cCIET/////Sw4OGlENODqSDRoHKEyB8LAMoThEcXIMPjQIUJsPuGoJn//NExIoRaMGYAHmMTAeULkCaAH430ghQFioTaw6uR16aHm9noKeGfkj7zC6EeSHRhgF3MGA2jTRIGS6iCbCZuNqv2aDydNWULhexmnKM1CycpXjwQexcfQ3Ybl475Mit//NExJcSKEnMAGJGJIO3HIgy2pHKMusMOjYzECqwXUYxSoCqmLN1ZlRqZE1VjWqZjIGWqjB1MxglBZIYet0wjzz8DBE4mWCg6Vr5pJW1YZeoE48XjslaCcg6uKth6NjS//NExKEfqxXYAMpGuahk51aVLOcrMli1iu2NmUKq5tK6/jRy8ufz3VLV+ZgagxqGElPFOFIsKoo6ZinC+QZjPbEpMhgzL1cSUVhVWmYWyxsVnFSGRYZSjwyDR4DXFOVD//NExHUhWxXUAMsGuRmVGwuuCOKrJUuo5oFmZDsKKoh6bQExW2ZrBMFU+cOzIwMrFDcFYJG0D2mdpqUXwCxZrFoh/UnIhRGuZGGrxEoRhFOZGnYskhUOS+ana4tRQ/nr//NExEISaPXsAMJGcCundd21fv9FMujCMWyAjIIVMFxrpdKKM6bC/DjOCDg+GUxKFg+SCYKlG2rZIiqA0QnGESbkRVAaQpsrLuRKwfLYhg4wEFBI1UM4woKHGZ1DUmhr//NExEsfIh2sAMJGmR1aoR6xyYK5NrHEhoaw1hlYaw1auU1hqGlJJZSYkklt2UklKJZbhMRLvykyXbGV28p1LVmEJdsuuZSojvo7jkS6iduXRiqRtkAnUxQkgKCTzSQQ//NExCEZod3wAMJGmMqFyR1D2Rm1GN8IXPaz0gAAARQ705ToGel65/U+vK///oIdz/3fuhO7wDMoCBwSOIUxOfxUPqOQQOS4fyBRwYB8PB/pIKU/YgQE0Fo5o6JMm0GA//NExA0VuS4AAHpGcEyJPoZRCyaJVn5NNTosmmKMlUqpUyDBxA4kNVxIomMrZc/1sBgEaw8t0qsiZUGiQdGhgsDbp5CsWU97FmZ0VWzVjlAXnduSYdvUCUkFEsmRVQk6//NExAkSKQHAAGGGcEQm6WpIiSEixgUaYmiFAoGMCiJRMYCCgxApYasDcmsP81aoasFpkJIHt1ihr/pCVIsax5EBCzPpFuBRVn///GVMQU1FMy4xMDBVVVVVVVVVVVVV\" type=\"audio/x-wav\" />\n",
       "                    Your browser does not support the audio element.\n",
       "                </audio>\n",
       "              "
      ],
      "text/plain": [
       "<IPython.lib.display.Audio object>"
      ]
     },
     "metadata": {},
     "output_type": "display_data"
    },
    {
     "data": {
      "text/html": [
       "\n",
       "                <audio  controls=\"controls\" autoplay=\"autoplay\">\n",
       "                    <source src=\"data:audio/x-wav;base64,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\" type=\"audio/x-wav\" />\n",
       "                    Your browser does not support the audio element.\n",
       "                </audio>\n",
       "              "
      ],
      "text/plain": [
       "<IPython.lib.display.Audio object>"
      ]
     },
     "metadata": {},
     "output_type": "display_data"
    }
   ],
   "source": [
    "from gtts import gTTS  # gTTS 모듈 임포트\n",
    "from IPython.display import Audio  # Audio 모듈 임포트. colab에서 오디오 재생을 위해 필요\n",
    "from time import sleep\n",
    "\n",
    "def greet_not_fixed(name, suffix):\n",
    "    message = f\"{name}{suffix} 안녕? 좋은 아침이야!\"\n",
    "    filename = \"greet.wav\"\n",
    "    tts = gTTS(message, lang=\"ko\")\n",
    "    tts.save(filename)\n",
    "    display(Audio(filename, autoplay=True))\n",
    "\n",
    "\n",
    "mentors = [\"채연\", \"효정\", \"다솜\", \"현수\", \"원호\", \"동우\", \"찬우\"]\n",
    "\n",
    "for mentor in mentors[0:3]:\n",
    "    greet_not_fixed(mentor, \"아\")\n",
    "    sleep(3)\n",
    "\n",
    "for mentor in mentors[3:7]:\n",
    "    greet_not_fixed(mentor, \"야\")\n",
    "    sleep(3)"
   ]
  },
  {
   "cell_type": "markdown",
   "metadata": {},
   "source": [
    "## 프로그램에게 입력하기\n",
    "새로운 친구가 왔다고 합시다. 친구의 이름을 들은 다음, 친구의 이름대로 인사를 해 봅시다\n",
    "```Python\n",
    "from gtts import gTTS  # gTTS 모듈 임포트\n",
    "from IPython.display import Audio  # Audio 모듈 임포트. colab에서 오디오 재생을 위해 필요\n",
    "from time import sleep\n",
    "\n",
    "def greet_not_fixed(name, suffix):\n",
    "    message = f\"{name}{suffix} 안녕? 좋은 아침이야!\"\n",
    "    filename = \"greet.wav\"\n",
    "    tts = gTTS(message, lang=\"ko\")\n",
    "    tts.save(filename)\n",
    "    display(Audio(filename, autoplay=True))\n",
    "\n",
    "# 여기 위는 복붙 / 아래는 써 보세요\n",
    "\n",
    "name = input(\"친구의 이름을 입력하세요: \")\n",
    "greet_not_fixed(name, \"야\")\n",
    "```"
   ]
  },
  {
   "cell_type": "code",
   "execution_count": null,
   "metadata": {},
   "outputs": [],
   "source": []
  },
  {
   "cell_type": "markdown",
   "metadata": {},
   "source": [
    "## 함수\n",
    "그런데 문제가 생겼습니다.\n",
    "+ 이름이 받침이 있는 글자로 끝난다면 `아`를 사용해야 하고(ex. 다솜**아**)\n",
    "+ 이름에 받침이 없는 글자로 끝난다면 `야`를 사용해야 해요(ex. 찬우**야**)  \n",
    "\n",
    "\n",
    "이것을 체크하는 일은 꽤 자주 할 것 같아요. 이것도 한 줄의 코드로 압축할 수 있습니다!"
   ]
  },
  {
   "cell_type": "code",
   "execution_count": 16,
   "metadata": {},
   "outputs": [
    {
     "name": "stdout",
     "output_type": "stream",
     "text": [
      "True\n",
      "False\n"
     ]
    }
   ],
   "source": [
    "def ends_with_final_consonants(name):\n",
    "    \"\"\"\n",
    "    이름이 종성이 있는 글자(받침이 있는 글자)로 끝난다면 True를 리턴하고, 그렇지 않다면 False를 리턴해요.\n",
    "    \"\"\"\n",
    "    char = name[-1]\n",
    "    if \"가\" <= char <= \"힣\":\n",
    "        return ((ord(char) - ord(\"가\")) % 28) > 0\n",
    "    else:\n",
    "        raise ValueError(\"한국어 글자로 끝나는 문자열을 입력해주세요\")\n",
    "\n",
    "print(ends_with_final_consonants(\"다솜\"))\n",
    "print(ends_with_final_consonants(\"찬우\"))"
   ]
  },
  {
   "cell_type": "markdown",
   "metadata": {},
   "source": [
    "함수란, 어떤 작은 일을 해결하는 작은 프로그램이라고 생각할 수 있어요. 우리는 각 기능을 만든 함수를 모아서 더 큰 프로그램을 만들 수 있죠.\n",
    "```Python\n",
    "print(\"안녕하세요\")\n",
    "```\n",
    "가장 먼저 배운 `print`도 함수에요. 파이썬에서 기본적으로 제공하는 함수여서, **내장함수**라고도 합니다.  \n",
    "```Python\n",
    "from time import sleep\n",
    "print(\"시작\")\n",
    "sleep(3)\n",
    "print(\"종료\")\n",
    "```\n",
    "내장함수 외에도, 다른 사람들이 개발한 함수를 불러와서 사용할 수도 있습니다. 우리 코드 바깥에 있는 함수들이 적힌 파일을 **모듈**이라 하고, 그 모듈들의 모음을 **패키지**라고 합니다."
   ]
  },
  {
   "cell_type": "code",
   "execution_count": 17,
   "metadata": {},
   "outputs": [
    {
     "name": "stdout",
     "output_type": "stream",
     "text": [
      "시작\n",
      "종료\n"
     ]
    }
   ],
   "source": [
    "# time 모듈에서 sleep함수 가져오기\n",
    "from time import sleep\n",
    "print(\"시작\")\n",
    "sleep(3)\n",
    "print(\"종료\")"
   ]
  },
  {
   "cell_type": "markdown",
   "metadata": {},
   "source": [
    "우리가 필요한 기능을 쪼개서, 함수로 만들 수도 있습니다. 이렇게 생각할 수도 있겠네요\n",
    "```Python\n",
    "# 이런 식으로 동작한다 정도만 보여주는 코드에요. 이 코드는 동작하지 않습니다.\n",
    "def chop(food):\n",
    "    chopped_food = do_something_with(food)\n",
    "    return chopped_food\n",
    "```\n",
    "`def`는 `chop`이라는 함수를 만들겠다고, 선언하는 부분입니다. 이 함수의 변수로는 `food`를 받습니다. 재료라고 생각하면 되겠어요.  \n",
    "이 함수에 어떤 `food`가 들어올 지는 모르지만, 이 함수는 최선을 다해서, 재료를 썰어 줍니다. 돌려주는(리턴하는) 변수는 잘 썰려진 음식이군요.\n",
    "함수를 선언했다면, 함수를 다시 사용할 수 있어요. \n",
    "```Python\n",
    "chopped_carrot = chop(carrot)\n",
    "chopped_apple = chop(apple)\n",
    "chopped_cucumber = chop(cucumber)\n",
    "```\n",
    "\n",
    "이제 우리는 많은 음식을 썰 수 있어요. 다시 돌아와 봅시다.\n",
    "```Python\n",
    "def ends_with_final_consonants(name):\n",
    "    \"\"\"\n",
    "    이름이 종성이 있는 글자(받침이 있는 글자)로 끝난다면 True를 리턴하고, 그렇지 않다면 False를 리턴해요.\n",
    "    \"\"\"\n",
    "    char = name[-1]\n",
    "    if \"가\" <= char <= \"힣\":\n",
    "        result = ((ord(char) - ord(\"가\")) % 28) > 0\n",
    "        return result\n",
    "    else:\n",
    "        raise ValueError(\"한국어 글자로 끝나는 문자열을 입력해주세요\")\n",
    "```\n",
    "작은 프로그램, 함수를 만들고 싶은데 이름은 `ends_with_final_consonants`로 하려고 합니다. 변수로는 `name`을 받을 겁니다. `result`가 어떻게 계산되는지는 모르겠지만, `result`를 돌려주네요.\n",
    "(*result를 계산한 방법은 오늘은 생략할 거에요*) `return` 부분에서 함수가 종료됩니다."
   ]
  },
  {
   "cell_type": "code",
   "execution_count": 18,
   "metadata": {},
   "outputs": [
    {
     "name": "stdout",
     "output_type": "stream",
     "text": [
      "True\n",
      "False\n"
     ]
    }
   ],
   "source": [
    "def ends_with_final_consonants(name):\n",
    "    \"\"\"\n",
    "    이름이 종성이 있는 글자(받침이 있는 글자)로 끝난다면 True를 리턴하고, 그렇지 않다면 False를 리턴해요.\n",
    "    \"\"\"\n",
    "    char = name[-1]\n",
    "    if \"가\" <= char <= \"힣\":\n",
    "        result = ((ord(char) - ord(\"가\")) % 28) > 0\n",
    "        return result\n",
    "    else:\n",
    "        raise ValueError(\"한국어 글자로 끝나는 문자열을 입력해주세요\")\n",
    "\n",
    "print(ends_with_final_consonants(\"다솜\"))\n",
    "print(ends_with_final_consonants(\"찬우\"))\n",
    "# 원하는 한국어 이름으로 테스트 해보세요!"
   ]
  },
  {
   "cell_type": "markdown",
   "metadata": {},
   "source": [
    "## 조건문\n",
    "이제 `True` `False`가 눈에 들어올 겁니다. 비슷한 예제를 살펴 볼게요\n",
    "```Python\n",
    "weather = \"맑음\"\n",
    "if weather == \"맑음\":\n",
    "    print(\"선글라스를 챙기세요!\")\n",
    "elif weather == \"rainy\":\n",
    "    print(\"우산을 챙기세요!\")\n",
    "else:\n",
    "    print(\"그냥 나가도 됩니다!\")\n",
    "```"
   ]
  },
  {
   "cell_type": "code",
   "execution_count": null,
   "metadata": {},
   "outputs": [],
   "source": []
  },
  {
   "cell_type": "markdown",
   "metadata": {},
   "source": [
    "`if` 부분에서는 주어진 식이 참인지 거짓인지 계산합니다. 참이라면 `if` 아래의 부분을 실행하고 거짓이라면 `else`부분의 코드를 실행해요.\n",
    "+ `elif`는 `else if`가 합쳐진 단어인데요, `if`의 식이 거짓이면서 `elif` 부분의 식이 참이면 해당 부분을 실행해요.\n",
    "+ 숫자도 참, 거짓이 있어요. `0`, `\"\"`, `False`, `None`은 거짓이고, 그 외의 수, 문자열, `True`는 참이에요"
   ]
  },
  {
   "cell_type": "markdown",
   "metadata": {},
   "source": [
    "이제 계획했던 기능을 구현해 봅시다!\n",
    "```Python\n",
    "def ends_with_final_consonants(name):\n",
    "    \"\"\"\n",
    "    이름이 종성이 있는 글자(받침이 있는 글자)로 끝난다면 True를 리턴하고, 그렇지 않다면 False를 리턴해요.\n",
    "    \"\"\"\n",
    "    char = name[-1]\n",
    "    if \"가\" <= char <= \"힣\":\n",
    "        return ((ord(char) - ord(\"가\")) % 28) > 0\n",
    "    else:\n",
    "        raise ValueError(\"한국어 글자로 끝나는 문자열을 입력해주세요\")\n",
    "\n",
    "def add_name_end(name):\n",
    "    end = ends_with_final_consonants(name) # 앞에서 제가 만든 함수를 안에서 쓰고 있어요.\n",
    "    if end == True: # 자음으로 끝나요.\n",
    "        return name + \"아\"\n",
    "    else: # 모음으로 끝나요\n",
    "        return name + \"야\"\n",
    "\n",
    "print(add_name_end(\"찬우\"))\n",
    "print(add_name_end(\"다솜\"))\n",
    "```"
   ]
  },
  {
   "cell_type": "code",
   "execution_count": null,
   "metadata": {},
   "outputs": [],
   "source": []
  },
  {
   "cell_type": "markdown",
   "metadata": {},
   "source": [
    "이제 우리는 어떠한 친구가 와도 인사할 수 있습니다. 해 볼까요?\n",
    "```Python\n",
    "from gtts import gTTS  # gTTS 모듈 임포트\n",
    "from IPython.display import Audio  # Audio 모듈 임포트. colab에서 오디오 재생을 위해 필요\n",
    "from time import sleep\n",
    "\n",
    "def ends_with_final_consonants(name):\n",
    "    \"\"\"\n",
    "    이름이 종성이 있는 글자(받침이 있는 글자)로 끝난다면 True를 리턴하고, 그렇지 않다면 False를 리턴해요.\n",
    "    \"\"\"\n",
    "    char = name[-1]\n",
    "    if \"가\" <= char <= \"힣\":\n",
    "        result = ((ord(char) - ord(\"가\")) % 28) > 0\n",
    "        return result\n",
    "    else:\n",
    "        raise ValueError(\"한국어 글자로 끝나는 문자열을 입력해주세요\")\n",
    "\n",
    "def add_name_end(name):\n",
    "    end = ends_with_final_consonants(name) # 앞에서 제가 만든 함수를 안에서 쓰고 있어요.\n",
    "    if end == True: # 자음으로 끝나요.\n",
    "        return name + \"아\"\n",
    "    else: # 모음으로 끝나요\n",
    "        return name + \"야\"\n",
    "\n",
    "def greet(name):\n",
    "    message = f\"{add_name_end(name)} 안녕? 좋은 아침이야!\"\n",
    "    filename = \"greet.wav\"\n",
    "    tts = gTTS(message, lang=\"ko\")\n",
    "    tts.save(filename)\n",
    "    display(Audio(filename, autoplay=True))\n",
    "\n",
    "# 친구의 이름을 입력받아 봅시다.\n",
    "name = input(\"친구의 이름을 입력하세요: \").strip()\n",
    "# 그 이름을 인사 함수에 넣읍시다\n",
    "greet(name)\n",
    "```"
   ]
  },
  {
   "cell_type": "code",
   "execution_count": 19,
   "metadata": {},
   "outputs": [
    {
     "data": {
      "text/html": [
       "\n",
       "                <audio  controls=\"controls\" autoplay=\"autoplay\">\n",
       "                    <source src=\"data:audio/x-wav;base64,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\" type=\"audio/x-wav\" />\n",
       "                    Your browser does not support the audio element.\n",
       "                </audio>\n",
       "              "
      ],
      "text/plain": [
       "<IPython.lib.display.Audio object>"
      ]
     },
     "metadata": {},
     "output_type": "display_data"
    }
   ],
   "source": []
  },
  {
   "cell_type": "markdown",
   "metadata": {},
   "source": [
    "## 죄수의 딜레마 문제 풀기\n",
    "두 명의 사건 용의자가 체포되어 서로 다른 방에서 조사받고 있다. 이들은 다음 표를 보고 자백할 지 선택한다.\n",
    "\n",
    "![죄수의 딜레마 설명이미지](https://raw.githubusercontent.com/tenspoons-snucba/shms-22Spr/main/docs/prisoner.jpeg)  \n",
    "\n",
    "+ 둘 중 하나가 배신하여 죄를 자백하면 자백한 사람은 즉시 풀어주고 나머지 한 명이 10년 감옥생활을 한다.\n",
    "+ 둘 모두 서로를 배신하여 죄를 자백하면 둘 모두 5년을 감옥에서 보낸다.\n",
    "+ 둘 모두 죄를 자백하지 않으면 둘 모두 1년 감옥에 갇힌다.\n",
    "\n",
    "상대방이 랜덤하게 선택한다면, 나는 어떻게 행동해야 감옥에서 빨리 나올 수 있을까요? 실험해 봅시다.\n",
    "\n",
    "+ `QUIET`는 침묵하는 선택이고, `SAY`는 자백하는 선택입니다.\n",
    "+ 상대방은 행동을 임의로, 랜덤하게 고른다고 합시다. 그 기능은 함수 `choose_action_random()`으로 이미 만들어져 있습니다.\n",
    "+ 실험 횟수는 바깥에서 입력하게 해 줄 겁니다. 실험 횟수를 받은 다음에 정수로 바꾸는 것을 잊지 마세요!\n",
    "  ```Python\n",
    "  count = int(input(\"실험 횟수를 입력하세요: \"))\n",
    "  ```\n",
    "+ A의 선택을 바깥에서 입력하게 해 줄 겁니다. 그 기능은 `get_playerA_action()`에서 구현하세요.\n",
    "+ 실험을 정해진 횟수 만큼 반복할 겁니다. 그래서 내가 감옥에 갇혀 있는 평균 기간을 구할 거에요.\n",
    "+ 마지막으로, 출력할 메시지를 `message` 변수에 저장해 주면, 코드 아랫 부분에서 그 `message`를 읽어 줄 겁니다!\n",
    "+ 뼈대 코드를 읽어가며, 차근차근 구현해 봅시다!"
   ]
  },
  {
   "cell_type": "code",
   "execution_count": 27,
   "metadata": {},
   "outputs": [
    {
     "name": "stdout",
     "output_type": "stream",
     "text": [
      "1\n"
     ]
    },
    {
     "data": {
      "text/html": [
       "\n",
       "                <audio  controls=\"controls\" autoplay=\"autoplay\">\n",
       "                    <source src=\"data:audio/x-wav;base64,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\" type=\"audio/x-wav\" />\n",
       "                    Your browser does not support the audio element.\n",
       "                </audio>\n",
       "              "
      ],
      "text/plain": [
       "<IPython.lib.display.Audio object>"
      ]
     },
     "metadata": {},
     "output_type": "display_data"
    }
   ],
   "source": [
    "# 이 부분은 수정하지 마세요!\n",
    "from random import choice\n",
    "from gtts import gTTS  # gTTS 모듈 임포트\n",
    "from IPython.display import Audio  # Audio 모듈 임포트. colab에서 오디오 재생을 위해 필요\n",
    "DENY = 0\n",
    "SAY = 1\n",
    "ACTIONS = [DENY, SAY]\n",
    "\n",
    "def choose_action_random():\n",
    "    return choice(ACTIONS)\n",
    "\n",
    "# <---------- 수정 금지 구간 끝! ---------->\n",
    "# 이 선 아래부터는 수정해도 됩니다.\n",
    "\n",
    "# TODO: playerA의 선택을 받는 함수를 구현하세요.\n",
    "# HINT: line == \"부인\" : 부인 과 정확하게 일치하면 True, 조금이라도 다르면 False를 리턴합니다.\n",
    "def get_playerA_choice():\n",
    "    \"\"\"\n",
    "    자백 이라고 입력하면 자백(SAY)를 돌려주고, 그렇지 않다면 부인(DENY)를 돌려주세요.\n",
    "    자백, 부인 두 단어가 아닌 경우는 모두 부인(DENY)를 돌려주면 됩니다.\n",
    "    \"\"\"\n",
    "    line = input(\"playerA의 선택을 입력하세요: \").strip() # line 변수에 사용자의 입력이 저장됩니다.\n",
    "\n",
    "    # TODO: 자백이라고 입력된 경우에는 SAY를 돌려주어야 해요. 지금은 항상 DENY만 돌려주고 있어요.\n",
    "    return DENY\n",
    "    \n",
    "# TODO: 함수의 설명대로 함수를 구현하세요.\n",
    "def play_game(choice):\n",
    "    \"\"\"\n",
    "    1. A의 choice를 받고, b의 선택은 랜덤으로 결정합니다.\n",
    "        A의 choice는 DENY 혹은 SAY입니다. 이 두 경우만 주어진다고 믿고 코드를 씁시다.\n",
    "    2. 표와 같이 A의 점수를 계산합니다.\n",
    "    3. A의 점수를 돌려 줍니다.\n",
    "    \"\"\"\n",
    "    choiceB = choose_action_random() # B의 선택을 랜덤하게 고르는 부분입니다.\n",
    "    \n",
    "    \n",
    "    score = 0 # 이 변수를 잘 계산하면 됩니다.\n",
    "    return score\n",
    "\n",
    "# TODO: 실험 횟수를 사용자에게 입력받고, count 변수에 저장하세요\n",
    "count = 0\n",
    "\n",
    "# playerA의 선택을 받을 겁니다. 여기서는 코드를 고치지 않아도 됩니다.\n",
    "# 모든 작업은 get_playerA_choice() 함수에서 다 합니다.\n",
    "choiceA = get_playerA_choice()\n",
    "\n",
    "# TODO: 결과의 합을 저장할 변수 sum을 정합니다. 처음 값으로 -1은 적당한가요?\n",
    "# 아니라면 바꾸세요.\n",
    "sum = -1\n",
    "\n",
    "# TODO: 실험 횟수 만큼 \"\"반복\"\"하세요\n",
    "sum += play_game(choice)\n",
    "\n",
    "# TODO: 실험 결과의 평균을 구해서 mean에 저장하세요\n",
    "mean = -1 \n",
    "\n",
    "# 이 선 아래는 수정하지 마세요\n",
    "# <---------- 수정 금지 구간 시작! ---------->\n",
    "message = f\"예상되는 평균 형량은 {mean:.2f}년 입니다.\"\n",
    "filename = \"result.wav\"\n",
    "tts = gTTS(message, lang=\"ko\")\n",
    "tts.save(filename)\n",
    "display(Audio(filename, autoplay=True))"
   ]
  },
  {
   "cell_type": "markdown",
   "metadata": {},
   "source": [
    "아래는 뼈대코드의 원본입니다. 위에서 수정하다가 처음부터 다시 시작하고 싶을 때 활용하세요"
   ]
  },
  {
   "cell_type": "code",
   "execution_count": 21,
   "metadata": {},
   "outputs": [
    {
     "data": {
      "text/html": [
       "\n",
       "                <audio  controls=\"controls\" autoplay=\"autoplay\">\n",
       "                    <source src=\"data:audio/x-wav;base64,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\" type=\"audio/x-wav\" />\n",
       "                    Your browser does not support the audio element.\n",
       "                </audio>\n",
       "              "
      ],
      "text/plain": [
       "<IPython.lib.display.Audio object>"
      ]
     },
     "metadata": {},
     "output_type": "display_data"
    }
   ],
   "source": [
    "# 이 부분은 수정하지 마세요!\n",
    "from random import choice\n",
    "from gtts import gTTS  # gTTS 모듈 임포트\n",
    "from IPython.display import Audio  # Audio 모듈 임포트. colab에서 오디오 재생을 위해 필요\n",
    "DENY = 0\n",
    "SAY = 1\n",
    "ACTIONS = [DENY, SAY]\n",
    "\n",
    "def choose_action_random():\n",
    "    return choice(ACTIONS)\n",
    "\n",
    "# <---------- 수정 금지 구간 끝! ---------->\n",
    "# 이 선 아래부터는 수정해도 됩니다.\n",
    "\n",
    "# TODO: playerA의 선택을 받는 함수를 구현하세요.\n",
    "def get_playerA_choice():\n",
    "    \"\"\"\n",
    "    자백 이라고 입력하면 자백(SAY)를 돌려주고, 그렇지 않다면 부인(DENY)를 돌려주세요.\n",
    "    자백, 부인 두 단어가 아닌 경우는 모두 부인(DENY)를 돌려주면 됩니다.\n",
    "    \"\"\"\n",
    "    line = input(\"playerA의 선택을 입력하세요: \").strip() # line 변수에 사용자의 입력이 저장됩니다.\n",
    "\n",
    "    # TODO: 자백이라고 입력된 경우에는 SAY를 돌려주어야 해요. 지금은 항상 DENY만 돌려주고 있어요.\n",
    "    return DENY\n",
    "    \n",
    "# TODO: 함수의 설명대로 함수를 구현하세요.\n",
    "def play_game(choice):\n",
    "    \"\"\"\n",
    "    1. A의 choice를 받고, b의 선택은 랜덤으로 결정합니다.\n",
    "        A의 choice는 DENY 혹은 SAY입니다. 이 두 경우만 주어진다고 믿고 코드를 씁시다.\n",
    "    2. 표와 같이 A의 점수를 계산합니다.\n",
    "    3. A의 점수를 돌려 줍니다.\n",
    "    \"\"\"\n",
    "    choiceB = choose_action_random() # B의 선택을 랜덤하게 고르는 부분입니다.\n",
    "    \n",
    "    \n",
    "    score = 0 # 이 변수를 잘 계산하면 됩니다.\n",
    "    return score\n",
    "\n",
    "# TODO: 실험 횟수를 사용자에게 입력받고, count 변수에 저장하세요\n",
    "count = 0\n",
    "\n",
    "# playerA의 선택을 받을 겁니다. 여기서는 코드를 고치지 않아도 됩니다.\n",
    "# 모든 작업은 get_playerA_choice() 함수에서 다 합니다.\n",
    "choiceA = get_playerA_choice()\n",
    "\n",
    "# TODO: 결과의 합을 저장할 변수 sum을 정합니다. 처음 값으로 -1은 적당한가요?\n",
    "# 아니라면 바꾸세요.\n",
    "sum = -1\n",
    "\n",
    "# TODO: 실험 횟수 만큼 \"\"반복\"\"하세요\n",
    "sum += play_game(choice)\n",
    "\n",
    "# TODO: 실험 결과의 평균을 구해서 mean에 저장하세요\n",
    "mean = -1 \n",
    "\n",
    "# 이 선 아래는 수정하지 마세요\n",
    "# <---------- 수정 금지 구간 시작! ---------->\n",
    "message = f\"예상되는 평균 형량은 {mean:.2f}년 입니다.\"\n",
    "filename = \"result.wav\"\n",
    "tts = gTTS(message, lang=\"ko\")\n",
    "tts.save(filename)\n",
    "display(Audio(filename, autoplay=True))"
   ]
  },
  {
   "cell_type": "markdown",
   "metadata": {},
   "source": [
    "## 답안"
   ]
  },
  {
   "cell_type": "code",
   "execution_count": 29,
   "metadata": {},
   "outputs": [
    {
     "data": {
      "text/html": [
       "\n",
       "                <audio  controls=\"controls\" autoplay=\"autoplay\">\n",
       "                    <source src=\"data:audio/x-wav;base64,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\" type=\"audio/x-wav\" />\n",
       "                    Your browser does not support the audio element.\n",
       "                </audio>\n",
       "              "
      ],
      "text/plain": [
       "<IPython.lib.display.Audio object>"
      ]
     },
     "metadata": {},
     "output_type": "display_data"
    }
   ],
   "source": [
    "# 이 부분은 수정하지 마세요!\n",
    "from random import choice\n",
    "from gtts import gTTS  # gTTS 모듈 임포트\n",
    "from IPython.display import Audio  # Audio 모듈 임포트. colab에서 오디오 재생을 위해 필요\n",
    "DENY = 0\n",
    "SAY = 1\n",
    "ACTIONS = [DENY, SAY]\n",
    "\n",
    "def choose_action_random():\n",
    "    return choice(ACTIONS)\n",
    "\n",
    "# <---------- 수정 금지 구간 끝! ---------->\n",
    "# 이 선 아래부터는 수정해도 됩니다.\n",
    "\n",
    "def get_playerA_choice():\n",
    "    \"\"\"\n",
    "    자백 이라고 입력하면 자백(SAY)를 돌려주고, 그렇지 않다면 부인(DENY)를 돌려주세요.\n",
    "    자백, 부인 두 단어가 아닌 경우는 모두 부인(DENY)를 돌려주면 됩니다.\n",
    "    \"\"\"\n",
    "    line = input(\"playerA의 선택을 입력하세요: \").strip() # line 변수에 사용자의 입력이 저장됩니다.\n",
    "    \n",
    "    if line == \"자백\": # 입력이 자백 과 정확히 일치하면\n",
    "        return SAY # 자백을 리턴하고 함수를 종료함.\n",
    "    # 그렇지 않은 경우만 남아 있다.\n",
    "    return DENY\n",
    "    \n",
    "def play_game(choice):\n",
    "    \"\"\"\n",
    "    1. A의 choice를 받고, b의 선택은 랜덤으로 결정합니다.\n",
    "        A의 choice는 DENY 혹은 SAY입니다. 이 두 경우만 주어진다고 믿고 코드를 씁시다.\n",
    "    2. 표와 같이 A의 점수를 계산합니다.\n",
    "    3. A의 점수를 돌려 줍니다.\n",
    "    \"\"\"\n",
    "    choiceB = choose_action_random() # B의 선택을 랜덤하게 고르는 부분입니다.\n",
    "\n",
    "    if (choiceA, choiceB) == (SAY, SAY):\n",
    "        score = 1\n",
    "    elif (choiceA, choiceB) == (SAY, DENY):\n",
    "        score = 10\n",
    "    elif (choiceA, choiceB) == (DENY, SAY):\n",
    "        score = 0\n",
    "    else:\n",
    "        score = 5\n",
    "\n",
    "    return score\n",
    "\n",
    "# 실험 횟수를 사용자에게 입력받고, count 변수에 저장하세요\n",
    "count = int(input(\"실험 횟수를 입력하세요: \"))\n",
    "\n",
    "# playerA의 선택을 받을 겁니다. 여기서는 코드를 고치지 않아도 됩니다.\n",
    "# 모든 작업은 get_playerA_choice() 함수에서 다 합니다.\n",
    "choiceA = get_playerA_choice()\n",
    "\n",
    "# 결과의 합을 저장할 변수 sum을 정합니다. 처음 값으로 0이 좋습니다.\n",
    "sum = 0\n",
    "\n",
    "# 실험 횟수 만큼 \"\"반복\"\"하세요\n",
    "for i in range(count):\n",
    "    sum += play_game(choice)\n",
    "\n",
    "# 실험 결과의 평균을 구해서 mean에 저장하세요\n",
    "mean = sum / count\n",
    "\n",
    "# 이 선 아래는 수정하지 마세요\n",
    "# <---------- 수정 금지 구간 시작! ---------->\n",
    "\n",
    "message = f\"예상되는 평균 형량은 {mean:.2f}년 입니다.\"\n",
    "filename = \"result.wav\"\n",
    "tts = gTTS(message, lang=\"ko\")\n",
    "tts.save(filename)\n",
    "display(Audio(filename, autoplay=True))"
   ]
  }
 ],
 "metadata": {
  "interpreter": {
   "hash": "916dbcbb3f70747c44a77c7bcd40155683ae19c65e1c03b4aa3499c5328201f1"
  },
  "kernelspec": {
   "display_name": "Python 3.8.10 64-bit",
   "language": "python",
   "name": "python3"
  },
  "language_info": {
   "codemirror_mode": {
    "name": "ipython",
    "version": 3
   },
   "file_extension": ".py",
   "mimetype": "text/x-python",
   "name": "python",
   "nbconvert_exporter": "python",
   "pygments_lexer": "ipython3",
   "version": "3.8.10"
  },
  "orig_nbformat": 4
 },
 "nbformat": 4,
 "nbformat_minor": 2
}
