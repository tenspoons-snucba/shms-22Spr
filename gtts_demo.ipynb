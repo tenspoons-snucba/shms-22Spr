{
 "cells": [
  {
   "cell_type": "markdown",
   "metadata": {},
   "source": [
    "# 1차시\n",
    "> 필요한 테크닉: 인덱스로 리스트 접근하기, 문자열 연산, 함수 사용\n",
    "> \n",
    "![covid.png](https://raw.githubusercontent.com/tenspoons-snucba/shms-22Spr/main/docs/covid.png)  \n",
    "[질병관리청 홈페이지](http://ncov.mohw.go.kr/)에 접속하면 코로나19 일일 확진자 정보를 확인할 수 있다.\n",
    "이 데이터를 읽어 주는 비서를 만들어 보자!"
   ]
  },
  {
   "cell_type": "markdown",
   "metadata": {},
   "source": [
    "## 필요 패키지 설치\n",
    "+ `gTTS`: **문자열**을 음성으로 변환해주는 패키지로, 구글에서 제공합니다."
   ]
  },
  {
   "cell_type": "code",
   "execution_count": 4,
   "metadata": {},
   "outputs": [
    {
     "name": "stdout",
     "output_type": "stream",
     "text": [
      "Requirement already satisfied: gTTS in /home/sailor1493/anaconda3/lib/python3.9/site-packages (2.2.4)\n",
      "Requirement already satisfied: six in /home/sailor1493/anaconda3/lib/python3.9/site-packages (from gTTS) (1.16.0)\n",
      "Requirement already satisfied: requests in /home/sailor1493/anaconda3/lib/python3.9/site-packages (from gTTS) (2.26.0)\n",
      "Requirement already satisfied: click in /home/sailor1493/anaconda3/lib/python3.9/site-packages (from gTTS) (8.0.3)\n",
      "Requirement already satisfied: charset-normalizer~=2.0.0 in /home/sailor1493/anaconda3/lib/python3.9/site-packages (from requests->gTTS) (2.0.4)\n",
      "Requirement already satisfied: idna<4,>=2.5 in /home/sailor1493/anaconda3/lib/python3.9/site-packages (from requests->gTTS) (3.2)\n",
      "Requirement already satisfied: urllib3<1.27,>=1.21.1 in /home/sailor1493/anaconda3/lib/python3.9/site-packages (from requests->gTTS) (1.26.7)\n",
      "Requirement already satisfied: certifi>=2017.4.17 in /home/sailor1493/anaconda3/lib/python3.9/site-packages (from requests->gTTS) (2021.10.8)\n"
     ]
    }
   ],
   "source": [
    "!pip install gTTS"
   ]
  },
  {
   "cell_type": "markdown",
   "metadata": {},
   "source": [
    "## 문자열이 무엇이죠?\n",
    "우리는 다양한 종류의 자료를 저장하고 싶은데, 컴퓨터 메모리에는 0, 1로만 저장할 수 있습니다. \n",
    "컴퓨터 프로그래밍 언어들은 사람이 원하는 자료의 형태를 알맞은 형태로 변환해주고, 어떤 자료를 읽을 때 적절한 방법으로 그 자료를 읽습니다.\n",
    "컴퓨터가 자료를 구분하는 형태를 **자료형**이라고 합니다.  \n",
    "\n",
    "우리 수업에서 다룰 자료형은 크게 *n*가지가 있는데요: TODO: 자료형 얼마나 다루나요...?\n",
    "+ 문자열 `str`\n",
    "+ 정수 `int`\n",
    "+ 실수 `float`\n",
    "+ Boolean (`True` / `False`)\n",
    "+ 리스트 `list`\n",
    "\n",
    "다시 문자열로 돌아 옵시다:  \n",
    "> `\"Hello world!\"`\n",
    "> \n",
    "문자열은 글이라고 생각하면 되는데, `\"이 글은 자료이고, 프로그램 코드가 아니야!\"`라고 알려주기 위해서 `'',\"\",'''''',\"\"\"\"\"\"`를 사용합니다.\n",
    "```Python\n",
    "\"이것도 됩니다.\"\n",
    "\n",
    "'요것도 돼요.'\n",
    "\n",
    "\"\"\"\n",
    "여러줄에 걸쳐 쓸 때는\n",
    "이런 방법도 쓰고\n",
    "\"\"\"\n",
    "\n",
    "'''\n",
    "요런 방법도\n",
    "쓸 수 있죠\n",
    "'''\n",
    "```\n",
    "\n",
    "문자열을 배웠으니, 이제 파이썬을 처음 활용해 봅시다.  \n",
    "전 세계 공통룰, `\"Hello, world!\"`부터 해 봅시다."
   ]
  },
  {
   "cell_type": "code",
   "execution_count": 2,
   "metadata": {},
   "outputs": [
    {
     "name": "stdout",
     "output_type": "stream",
     "text": [
      "Hello, world!\n"
     ]
    }
   ],
   "source": [
    "print(\"Hello, world!\")"
   ]
  },
  {
   "cell_type": "markdown",
   "metadata": {},
   "source": [
    "원하는 내용도 출력해 보세요! 이런 것도 좋습니다."
   ]
  },
  {
   "cell_type": "code",
   "execution_count": 3,
   "metadata": {},
   "outputs": [
    {
     "name": "stdout",
     "output_type": "stream",
     "text": [
      "다솜아 오늘 점심 메뉴 뭐야??\n"
     ]
    }
   ],
   "source": [
    "print(\"다솜아 오늘 점심 메뉴 뭐야??\")"
   ]
  }
 ],
 "metadata": {
  "interpreter": {
   "hash": "4ba0a04f1d99dfb97f2723b46bc6ec7937410bbe0383fee1c94d60f08e385102"
  },
  "kernelspec": {
   "display_name": "Python 3.9.7 ('base')",
   "language": "python",
   "name": "python3"
  },
  "language_info": {
   "codemirror_mode": {
    "name": "ipython",
    "version": 3
   },
   "file_extension": ".py",
   "mimetype": "text/x-python",
   "name": "python",
   "nbconvert_exporter": "python",
   "pygments_lexer": "ipython3",
   "version": "3.9.7"
  },
  "orig_nbformat": 4
 },
 "nbformat": 4,
 "nbformat_minor": 2
}
