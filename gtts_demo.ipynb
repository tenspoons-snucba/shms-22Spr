{
 "cells": [
  {
   "cell_type": "markdown",
   "metadata": {},
   "source": [
    "# 문자열 조작하기\n",
    "> 필요한 테크닉: 인덱스로 리스트 접근하기, 문자열 연산, 함수 사용\n",
    "> \n",
    "![covid.png](docs/covid.png)  \n",
    "[질병관리청 홈페이지](http://ncov.mohw.go.kr/)에 접속하면 코로나19 일일 확진자 정보를 확인할 수 있다.\n",
    "이 데이터를 읽어 주는 비서를 만들어 보자!"
   ]
  },
  {
   "cell_type": "markdown",
   "metadata": {},
   "source": [
    "## 필요 패키지 설치\n",
    "+ `gTTS`: **문자열**을 음성으로 변환해주는 패키지로, 구글에서 제공함."
   ]
  },
  {
   "cell_type": "markdown",
   "metadata": {},
   "source": [
    "## 문자열이 무엇이죠?\n"
   ]
  },
  {
   "cell_type": "markdown",
   "metadata": {},
   "source": [
    "!pip install gTTS"
   ]
  }
 ],
 "metadata": {
  "interpreter": {
   "hash": "4ba0a04f1d99dfb97f2723b46bc6ec7937410bbe0383fee1c94d60f08e385102"
  },
  "kernelspec": {
   "display_name": "Python 3.9.7 ('base')",
   "language": "python",
   "name": "python3"
  },
  "language_info": {
   "codemirror_mode": {
    "name": "ipython",
    "version": 3
   },
   "file_extension": ".py",
   "mimetype": "text/x-python",
   "name": "python",
   "nbconvert_exporter": "python",
   "pygments_lexer": "ipython3",
   "version": "3.9.7"
  },
  "orig_nbformat": 4
 },
 "nbformat": 4,
 "nbformat_minor": 2
}
